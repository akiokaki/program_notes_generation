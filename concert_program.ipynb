{
 "cells": [
  {
   "cell_type": "code",
   "execution_count": 1,
   "id": "dcbf7d5e-6d6f-4b9a-8ba0-b0b06c3fc486",
   "metadata": {
    "id": "dcbf7d5e-6d6f-4b9a-8ba0-b0b06c3fc486"
   },
   "outputs": [],
   "source": [
    "import random\n",
    "import os\n",
    "from glob import glob\n",
    "import pandas as pd\n",
    "\n",
    "from info import pj"
   ]
  },
  {
   "cell_type": "code",
   "execution_count": 2,
   "id": "6f763bf9-f401-4ab0-b3ba-087903067a48",
   "metadata": {
    "id": "6f763bf9-f401-4ab0-b3ba-087903067a48"
   },
   "outputs": [],
   "source": [
    "TEMPERATURE = 0.1\n",
    "MAX_OUTPUT_TOKENS = 1024\n",
    "TOP_P = 0.95\n",
    "TOP_K = 40"
   ]
  },
  {
   "cell_type": "code",
   "execution_count": 3,
   "id": "2fd3dbf4-499f-48e5-9b0a-c4031324c80c",
   "metadata": {},
   "outputs": [],
   "source": [
    "composer = \"Wolfgang Amadeus Mozart\"\n",
    "piece_title = \"Overture to the Magic Flute\""
   ]
  },
  {
   "cell_type": "markdown",
   "id": "68765aa4-a247-440c-8ce0-32da6f2373e3",
   "metadata": {
    "id": "68765aa4-a247-440c-8ce0-32da6f2373e3"
   },
   "source": [
    "# No context generation using PaLM"
   ]
  },
  {
   "cell_type": "code",
   "execution_count": 4,
   "id": "d2c248ef-59b6-4944-a54c-e0f05853c511",
   "metadata": {
    "id": "d2c248ef-59b6-4944-a54c-e0f05853c511"
   },
   "outputs": [],
   "source": [
    "import vertexai\n",
    "from vertexai.language_models import TextGenerationModel\n",
    "\n",
    "vertexai.init(project = pj, location=\"us-central1\")"
   ]
  },
  {
   "cell_type": "code",
   "execution_count": 5,
   "id": "69976e15-d077-4347-8680-9e1df1dbb742",
   "metadata": {
    "id": "69976e15-d077-4347-8680-9e1df1dbb742",
    "outputId": "5b67dfe6-6747-46ea-a78c-d55bd8fee904"
   },
   "outputs": [
    {
     "name": "stdout",
     "output_type": "stream",
     "text": [
      "The Overture to The Magic Flute is one of the most famous and beloved pieces of classical music ever written. It was composed by Wolfgang Amadeus Mozart in 1791, and it premiered in Vienna on September 30 of that year. The opera itself is a Singspiel, or a German opera that includes spoken dialogue. The story is based on a fairy tale by Emanuel Schikaneder, and it tells the story of a young prince named Tamino who is on a quest to rescue a beautiful princess named Pamina from the evil sorcerer Sarastro.\n",
      "\n",
      "The Overture to The Magic Flute is a brilliant piece of music that perfectly captures the excitement and drama of the opera. It begins with a slow, mysterious introduction that sets the scene for the story. The music then builds in intensity as Tamino embarks on his quest, and it reaches a climax in the final section, when Tamino and Pamina are reunited.\n",
      "\n",
      "The Overture to The Magic Flute was composed at a time when Mozart was at the height of his powers. He had already written some of his most famous works, including The Marriage of Figaro and Don Giovanni, and he was about to embark on his final masterpiece, The Requiem. The Overture to The Magic Flute is a testament to Mozart's genius, and it is a work of art that continues to be enjoyed by audiences around the world.\n",
      "\n",
      "In addition to the historical events mentioned above, there are also a number of relevant events from Mozart's life that occurred around the time of the composition of The Magic Flute. In 1781, Mozart had moved to Vienna, where he became a court composer to Emperor Joseph II. He was also married to Constanze Weber, and they had two children together, Karl and Theresia. Mozart was a prolific composer, and he wrote a number of important works during this period, including The Marriage of Figaro, Don Giovanni, and The Magic Flute.\n",
      "\n",
      "The Magic Flute was a critical and commercial success, and it is considered to be one of Mozart's greatest works. The opera is a complex and challenging work, but it is also a beautiful and moving one. It is a story of love, sacrifice, and redemption, and it is a work that has inspired audiences for centuries.\n"
     ]
    }
   ],
   "source": [
    "parameters = {\n",
    "    \"temperature\": TEMPERATURE,\n",
    "    \"max_output_tokens\": MAX_OUTPUT_TOKENS,\n",
    "    \"top_p\": TOP_P,\n",
    "    \"top_k\": TOP_K\n",
    "}\n",
    "model = TextGenerationModel.from_pretrained(\"text-bison@001\")\n",
    "\n",
    "response = model.predict(\n",
    "    \"\"\"\\\n",
    "    Write a classical music program notes for tonight\\'s performance of {} by {}.\\\n",
    "    Incorporate relevant historical events at the time of this piece\\'s composition.\\\n",
    "    Also incorporate relevant events from the composer\\'s life at the time of this piece\\'s composition.\\\n",
    "    \"\"\".format(piece_title, composer),\n",
    "    **parameters\n",
    ")\n",
    "\n",
    "print(response.text)"
   ]
  },
  {
   "cell_type": "markdown",
   "id": "6298550e-04b5-401f-bb08-2dc65b6c8867",
   "metadata": {
    "id": "6298550e-04b5-401f-bb08-2dc65b6c8867"
   },
   "source": [
    "# Adding Context to prompt using Langchain"
   ]
  },
  {
   "cell_type": "code",
   "execution_count": 6,
   "id": "2b43f0ee-4f78-49c0-9822-81fd65347972",
   "metadata": {
    "id": "2b43f0ee-4f78-49c0-9822-81fd65347972"
   },
   "outputs": [],
   "source": [
    "from langchain.document_loaders import TextLoader\n",
    "from langchain.embeddings import VertexAIEmbeddings\n",
    "from langchain.text_splitter import RecursiveCharacterTextSplitter\n",
    "from langchain.vectorstores import SKLearnVectorStore\n",
    "from langchain.llms import VertexAI\n",
    "from langchain import PromptTemplate, LLMChain"
   ]
  },
  {
   "cell_type": "code",
   "execution_count": 7,
   "id": "c42260db-b18a-4580-b17b-69850aea9d7d",
   "metadata": {
    "id": "c42260db-b18a-4580-b17b-69850aea9d7d"
   },
   "outputs": [],
   "source": [
    "loaded_docs = []\n",
    "for file in glob(\"./example_notes/*mozart*.txt\"):\n",
    "    try:\n",
    "        loader = TextLoader(file, encoding=\"utf8\")\n",
    "        loaded_docs.extend(loader.load())\n",
    "    except Exception as e:\n",
    "        loader = TextLoader(file, autodetect_encoding=True)\n",
    "        loaded_docs.extend(loader.load())\n",
    "\n",
    "# text_splitter = CharacterTextSplitter(separator = \"\\n\")\n",
    "text_splitter = RecursiveCharacterTextSplitter(chunk_size=1000, chunk_overlap=50)\n",
    "docs = text_splitter.split_documents(loaded_docs)"
   ]
  },
  {
   "cell_type": "code",
   "execution_count": 8,
   "id": "1dff6834-a471-480d-aefe-b37c46eac125",
   "metadata": {
    "id": "1dff6834-a471-480d-aefe-b37c46eac125"
   },
   "outputs": [],
   "source": [
    "embeddings = VertexAIEmbeddings()"
   ]
  },
  {
   "cell_type": "code",
   "execution_count": 15,
   "id": "f8680f51-bf57-4175-b9f6-5588d3976d8f",
   "metadata": {
    "id": "f8680f51-bf57-4175-b9f6-5588d3976d8f"
   },
   "outputs": [],
   "source": [
    "custom_template = \"\"\"\\\n",
    "Write a classical music program notes for tonight\\'s performance of {piece_title} by {composer}\\\n",
    "Incorporate relevant historical events at the time of this piece\\'s composition.\\\n",
    "Also incorporate relevant events from the composer\\'s life at the time of this piece\\'s composition.\\\n",
    "Incorporate information from the Context section.\\\n",
    "\n",
    "Context:\n",
    "{context}\n",
    "\"\"\""
   ]
  },
  {
   "cell_type": "markdown",
   "id": "6ae00297-4182-4cc7-86ce-78448870c5bc",
   "metadata": {},
   "source": [
    "## Pull up context"
   ]
  },
  {
   "cell_type": "code",
   "execution_count": 10,
   "id": "2237012d-7579-4454-97ef-f9896ebb7194",
   "metadata": {
    "id": "2237012d-7579-4454-97ef-f9896ebb7194"
   },
   "outputs": [],
   "source": [
    "vector_store = SKLearnVectorStore.from_documents(\n",
    "    documents=docs,\n",
    "    embedding=embeddings\n",
    ")"
   ]
  },
  {
   "cell_type": "code",
   "execution_count": 16,
   "id": "c533df02-4ce9-4392-8cd5-6e664e7a2541",
   "metadata": {},
   "outputs": [
    {
     "data": {
      "text/plain": [
       "[Document(page_content='wolfgang amadeus mozart: Overture to The Magic Flute, K. 620\\nMozart’s incomparable musical gifts enabled him to compose at the highest level of artistic brilliance in almost every musical genre. We are privileged to experience his legacy in symphonies, chamber music, wind serenades, choral music, keyboard music—the list goes on and on. But, unquestionably, his greatest contributions to musical art are his operas. No one—not even Wagner, Verdi, Puccini, or Richard Strauss excelled the perfection of Mozart’s mature operas. The reason, of course, is clear: his unparalleled musical gift is served and informed by a nuanced insight into human psychology that is simply stunning. While Mozart composed both comic operas and serious operas, and in both German and Italian, his major body of work lies in his opera buffe--Italian comic operas. Almost every music lover cherishes his Cosi fan tutte, The Marriage of Figaro, and Don Giovanni, but his last opera is rather different from these.', metadata={'id': 'd8afff5a-d117-42b6-992b-c03c3b321b9e', 'source': './example_notes\\\\wolfgang amadeus mozart_Overture to The Magic Flute, K. 620.txt'}),\n",
       " Document(page_content='Wolfgang Amadeus MOZART: Overture to The Magic Flute\\nThe Magic Flute (Die Zauberflöte) was a collaboration between Mozart and his friend and Masonic lodge brother, the singer-actor-writer-promoter-manager-theater owner (and patron saint of all show-business hyphenates) Emanuel Schikaneder. In 1791, Mozart composed a good deal of music for use in Schikaneder’s Freihaustheater in Vienna, culminating with the music for Schikaneder’s singspiel allegory about love and sacred rites. The Magic Flute is a curious blend of the sublime and the silly, incorporating oblique references to rituals of the Masons. It was a considerable success and might have been the start of a whole new career for Mozart, had he not taken ill and died in the middle of its run.', metadata={'id': '715b1d7d-65b3-4614-8c63-96fe62aaa487', 'source': './example_notes\\\\la_phil_Wolfgang Amadeus MOZART_Overture to The Magic Flute.txt'}),\n",
       " Document(page_content='wolfgang amadeus mozart: Overture to The Marriage of Figaro, K. 492\\nMozart’s incomparable musical gifts enabled him to compose at the highest level of artistic brilliance in almost every musical genre. We are privileged to experience his legacy in symphonies, chamber music, wind serenades, choral music, keyboard music—the list goes on and on. But, unquestionably, his greatest contributions to musical art are his operas. No one—not even Wagner, Verdi, Puccini, or Richard Strauss excelled the perfection of Mozart’s mature operas. The reason, of course, is clear: his unparalleled musical gift is served and informed by a nuanced insight into human psychology that is simply stunning. His characters represented real men and women on the stage, who moved dramatically, and who had distinctive personalities. While Mozart composed both comic operas and serious operas, and in both German and Italian, his major body of work lies in his opera buffe--Italian comic operas.', metadata={'id': 'bd6c63c5-f40e-4a5c-99b7-4e69a3e904c0', 'source': './example_notes\\\\wolfgang amadeus mozart_Overture to The Marriage of Figaro, K. 492.txt'}),\n",
       " Document(page_content=\"wolfgang amadeus mozart: Andantino from Concerto for Flute, Harp, and Orchestra in C Major, K. 299297c\\nThere is some evidence that Mozart really didn't care that much for the sound of the flute as a soloist, although he wrote beautifully and convincingly for it in ensemble. And, although a prolific composer, he only wrote one piece that included the harp—the present one. But, it doesn’t matter, Mozart being Mozart, the result is masterful, elegant, and more than pleasing.\\nThe young Mozart spent much of his time traveling, and April 1778 found the twenty-two year old in an extended stay in Paris, visiting at the home of the Duc de Guînes, an amateur flautist. This time was probably a low point in the composer’s life. Paris was expensive, Mozart hated French music, and in July his beloved mother died.\", metadata={'id': 'ed8fca38-a2b5-4080-b920-31d8264d2ea1', 'source': './example_notes\\\\wolfgang amadeus mozart_Andantino from Concerto for Flute, Harp, and Orchestra in C Major, K. 299297c.txt'}),\n",
       " Document(page_content='Its overture is a fugal sonata movement of the sort that Mozart had composed for the finale of his “Jupiter” Symphony three years earlier. The impressive chords that open the overture (and return between the exposition and the development) are taken from Act I of the opera, where they signify the solemnity of the sacred temple. The tugging impulsiveness of the fugue subject (which is not taken from the opera) is caused by displaced accents: Mozart marks the downbeats soft and the upbeats loud, which is just the opposite of what players in his day would do as a matter of course.\\nExcerpted as concert music, the overture is unique in being Mozart’s only purely instrumental work that uses trombones. In the opera, the trombones convey grandeur and dignity in the temple scenes. They do much the same thing in the overture, but also lend an impressive weight to the orchestration in the fast sections—the closest the symphonic Mozart comes to a modern “brass section.”\\n—Howard Posner', metadata={'id': 'f6067325-0d87-48af-b0fb-268885271025', 'source': './example_notes\\\\la_phil_Wolfgang Amadeus MOZART_Overture to The Magic Flute.txt'}),\n",
       " Document(page_content='wolfgang amadeus mozart: Divertimento in F Major, K. 138\\nMozart’s genius surfaced early, not only as a precocious performer, but as a composer, as well. His father was a successful court musician in their hometown of Salzburg, but he certainly was not above bolstering the family finances by sharing little Wolfgang’s talents with the greater musical world. As a result Mozart’s life early on was punctuating with a series of grand tours, wherein he met the rich and talented and wowed them with his own gifts. Several lengthy Italian tours were major events in the young composer’s life, and entertainingly documented in his letters home. We must remember, notwithstanding the tendency to regard Vienna as an outpost of Germany, Austria’s geographical location has always made Italian art and musical style a fundamental component of its own artistic life. There’s good reason that all of those great operas that we love by Mozart are in Italian!', metadata={'id': 'f34f6b31-5632-4fbe-bc08-75b7651f4261', 'source': './example_notes\\\\wolfgang amadeus mozart_Divertimento in F Major, K. 138.txt'}),\n",
       " Document(page_content='Generally, in his late operas, Mozart incorporated some thematic references to the opera proper in the overtures. Not so here! This sizzling curtain raiser nonpareil is unique and unequalled in setting the mood and preparing the audience for almost four hours of intrigue, betrayal, and skullduggery in general. Almost unassumingly the unison strings plunge into the beginning—the pianissimo dynamic coupled with the breathtaking tempo giving ample warning of the intrigue and pace that lies ahead in the drama. And it doesn’t relent in its driving tempo, right to the end. There are loud parts and there are soft parts, inimitable themes—but the drive is relentless. When it finally ends, no audience is as ready for an evening with a masterpiece of opera as those attending The Marriage of Figaro; the overture’s genius serves it equally well as a stand-alone composition of the highest order.\\n--Wm. E. Runyan\\n© 2015 William E. Runyan', metadata={'id': 'd0daa0ad-1554-4ea1-9fdb-a0b6d8b17f95', 'source': './example_notes\\\\wolfgang amadeus mozart_Overture to The Marriage of Figaro, K. 492.txt'})]"
      ]
     },
     "execution_count": 16,
     "metadata": {},
     "output_type": "execute_result"
    }
   ],
   "source": [
    "context_query = \"Retrieve relevant text for {} by {}\".format(piece_title, composer)\n",
    "\n",
    "addl_context = vector_store.similarity_search(query = context_query, k = 7) \n",
    "addl_context"
   ]
  },
  {
   "cell_type": "code",
   "execution_count": 17,
   "id": "8934a3d0-b33b-4831-b26d-9a42903ed3b0",
   "metadata": {
    "id": "8934a3d0-b33b-4831-b26d-9a42903ed3b0"
   },
   "outputs": [],
   "source": [
    "prompt = PromptTemplate(template = custom_template,\n",
    "                        input_variables = [\"context\", \"composer\", \"piece_title\"])\n",
    "prompt_text = prompt.format(context = addl_context,\n",
    "                            composer = composer,\n",
    "                            piece_title = piece_title)"
   ]
  },
  {
   "cell_type": "code",
   "execution_count": 18,
   "id": "f592693d-ca1b-4c9d-b548-43d0eea69fca",
   "metadata": {
    "id": "f592693d-ca1b-4c9d-b548-43d0eea69fca"
   },
   "outputs": [],
   "source": [
    "llm = VertexAI(model_name = \"text-bison@001\",\n",
    "               temperature = TEMPERATURE,\n",
    "               max_output_tokens = MAX_OUTPUT_TOKENS,\n",
    "               top_p = TOP_P,\n",
    "               top_k = TOP_K)"
   ]
  },
  {
   "cell_type": "code",
   "execution_count": 19,
   "id": "343f5447-5d9e-47cf-bff8-638d6ab73c9c",
   "metadata": {
    "id": "7dac7739-8485-4a34-af82-ab8cfdb0118a"
   },
   "outputs": [
    {
     "name": "stdout",
     "output_type": "stream",
     "text": [
      "Wolfgang Amadeus Mozart's Overture to The Magic Flute is a masterpiece of musical theater. It was composed in 1791, the same year that Mozart died. The opera itself is a singspiel, which is a type of opera that combines spoken dialogue with musical numbers. The Magic Flute is a curious blend of the sublime and the silly, incorporating oblique references to rituals of the Masons. It was a considerable success and might have been the start of a whole new career for Mozart, had he not taken ill and died in the middle of its run.\n",
      "\n",
      "The overture is a fugal sonata movement of the sort that Mozart had composed for the finale of his \"Jupiter\" Symphony three years earlier. The impressive chords that open the overture (and return between the exposition and the development) are taken from Act I of the opera, where they signify the solemnity of the sacred temple. The tugging impulsiveness of the fugue subject (which is not taken from the opera) is caused by displaced accents: Mozart marks the downbeats soft and the upbeats loud, which is just the opposite of what players in his day would do as a matter of course.\n",
      "\n",
      "Excerpted as concert music, the overture is unique in being Mozart's only purely instrumental work that uses trombones. In the opera, the trombones convey grandeur and dignity in the temple scenes. They do much the same thing in the overture, but also lend an impressive weight to the orchestration in the fast sections—the closest the symphonic Mozart comes to a modern \"brass section.\"\n",
      "\n",
      "The overture is a perfect introduction to The Magic Flute. It is full of energy and excitement, and it sets the stage for the opera's fantastical story.\n"
     ]
    }
   ],
   "source": [
    "vectored_output = llm(prompt_text)\n",
    "\n",
    "print(vectored_output)"
   ]
  },
  {
   "cell_type": "markdown",
   "id": "60b95a3e-8550-4fec-a7de-65028485acb7",
   "metadata": {
    "id": "60b95a3e-8550-4fec-a7de-65028485acb7"
   },
   "source": [
    "## Evaluate"
   ]
  },
  {
   "cell_type": "code",
   "execution_count": 20,
   "id": "26d8d26a-3a69-464a-93f3-8e0a7dd24d42",
   "metadata": {
    "id": "26d8d26a-3a69-464a-93f3-8e0a7dd24d42"
   },
   "outputs": [],
   "source": [
    "from langchain.chains import RetrievalQA\n",
    "from langchain.evaluation.qa import QAGenerateChain\n",
    "import langchain\n",
    "langchain.debug = False"
   ]
  },
  {
   "cell_type": "code",
   "execution_count": 21,
   "id": "11a7d2c1-641d-43c0-80f4-b170658ba768",
   "metadata": {
    "id": "11a7d2c1-641d-43c0-80f4-b170658ba768"
   },
   "outputs": [],
   "source": [
    "qa = RetrievalQA.from_chain_type(\n",
    "    llm=llm,\n",
    "    chain_type = \"stuff\",\n",
    "    retriever = vector_store.as_retriever(),\n",
    "    verbose = True,\n",
    "    chain_type_kwargs = {\n",
    "        \"document_separator\": \"<<<<>>>>>\"\n",
    "    }\n",
    ")"
   ]
  },
  {
   "cell_type": "code",
   "execution_count": 39,
   "id": "476f8e4b-97a2-4262-92ea-a9e88c61c904",
   "metadata": {
    "id": "476f8e4b-97a2-4262-92ea-a9e88c61c904"
   },
   "outputs": [],
   "source": [
    "examples = [\n",
    "    {\n",
    "        \"query\": \"What key is the Overture to the Magic Flute in?\",\n",
    "        \"answer\": \"E flat major\"\n",
    "    },\n",
    "    {\n",
    "        \"query\": \"Does the Magic Flute contain Freemasonic symbolism?\",\n",
    "        \"answer\": \"Yes\"\n",
    "    }\n",
    "]"
   ]
  },
  {
   "cell_type": "code",
   "execution_count": 40,
   "id": "56292519-2ffa-4f0d-b0fa-394d1a81673b",
   "metadata": {
    "id": "56292519-2ffa-4f0d-b0fa-394d1a81673b",
    "scrolled": true
   },
   "outputs": [],
   "source": [
    "example_gen_chain = QAGenerateChain.from_llm(llm)\n",
    "\n",
    "new_examples = example_gen_chain.apply_and_parse(\n",
    "    [{\"doc\": t} for t in random.sample(addl_context, 3)]\n",
    ")\n",
    "\n",
    "examples += new_examples"
   ]
  },
  {
   "cell_type": "code",
   "execution_count": 33,
   "id": "50e9a92f-db00-4da4-87a4-3a8c8b43b91e",
   "metadata": {
    "id": "50e9a92f-db00-4da4-87a4-3a8c8b43b91e"
   },
   "outputs": [],
   "source": [
    "from langchain.evaluation.qa import QAEvalChain\n",
    "import langchain\n",
    "langchain.debug = False"
   ]
  },
  {
   "cell_type": "code",
   "execution_count": 41,
   "id": "60ba026c-c1e4-48ff-8a06-6d27e86b5de3",
   "metadata": {
    "id": "60ba026c-c1e4-48ff-8a06-6d27e86b5de3"
   },
   "outputs": [
    {
     "name": "stdout",
     "output_type": "stream",
     "text": [
      "\n",
      "\n",
      "\u001b[1m> Entering new  chain...\u001b[0m\n",
      "\n",
      "\u001b[1m> Finished chain.\u001b[0m\n",
      "\n",
      "\n",
      "\u001b[1m> Entering new  chain...\u001b[0m\n",
      "\n",
      "\u001b[1m> Finished chain.\u001b[0m\n",
      "\n",
      "\n",
      "\u001b[1m> Entering new  chain...\u001b[0m\n",
      "\n",
      "\u001b[1m> Finished chain.\u001b[0m\n",
      "\n",
      "\n",
      "\u001b[1m> Entering new  chain...\u001b[0m\n",
      "\n",
      "\u001b[1m> Finished chain.\u001b[0m\n",
      "\n",
      "\n",
      "\u001b[1m> Entering new  chain...\u001b[0m\n",
      "\n",
      "\u001b[1m> Finished chain.\u001b[0m\n"
     ]
    }
   ],
   "source": [
    "predictions = qa.apply(examples)"
   ]
  },
  {
   "cell_type": "code",
   "execution_count": 42,
   "id": "011246d3-bdc1-4a96-aac4-c1cc42988d13",
   "metadata": {
    "id": "011246d3-bdc1-4a96-aac4-c1cc42988d13"
   },
   "outputs": [],
   "source": [
    "eval_chain = QAEvalChain.from_llm(llm)\n",
    "graded_outputs = eval_chain.evaluate(examples, predictions)"
   ]
  },
  {
   "cell_type": "code",
   "execution_count": 43,
   "id": "4f8d1404-1359-4f4d-9a9c-e61e7fc672ee",
   "metadata": {
    "id": "4f8d1404-1359-4f4d-9a9c-e61e7fc672ee"
   },
   "outputs": [
    {
     "name": "stdout",
     "output_type": "stream",
     "text": [
      "Example 0:\n",
      "Question: What key is the Overture to the Magic Flute in?\n",
      "Real Answer: E flat major\n",
      "Predicted Answer: The Overture to the Magic Flute is in the key of Eb.\n",
      "Predicted Grade: CORRECT\n",
      "\n",
      "Example 1:\n",
      "Question: Does the Magic Flute contain Freemasonic symbolism?\n",
      "Real Answer: Yes\n",
      "Predicted Answer: Yes, The Magic Flute contains Freemasonic symbolism.\n",
      "Predicted Grade: CORRECT\n",
      "\n",
      "Example 2:\n",
      "Question: What was the name of the singer-actor-writer-promoter-manager-theater owner who collaborated with Mozart on The Magic Flute?\n",
      "Real Answer: Emanuel Schikaneder\n",
      "Predicted Answer: The singer-actor-writer-promoter-manager-theater owner who collaborated with Mozart on The Magic Flute was Emanuel Schikaneder.\n",
      "Predicted Grade: CORRECT\n",
      "\n",
      "Example 3:\n",
      "Question: What is the name of the movement that Mozart composed for the finale of his \"Jupiter\" Symphony?\n",
      "Real Answer: fugal sonata movement\n",
      "Predicted Answer: The last movement is one that features a jolly theme that returns frequently after being interspersed with contrasting ones—there’s a bit of development in the middle. The soloist has lots of opportunity to display digital virtuosity (but always tasteful) as the characteristic interplay with the orchestra eventually leads to the cadenza and one more shot at the main theme in a zestful end to it all.\n",
      "Predicted Grade: INCORRECT\n",
      "\n",
      "Example 4:\n",
      "Question: What is the tempo of the overture?\n",
      "Real Answer: The tempo of the overture is breathtaking.\n",
      "Predicted Answer: The tempo of the overture is a fugal sonata movement of the sort that Mozart had composed for the finale of his \"Jupiter\" Symphony three years earlier.\n",
      "Predicted Grade: INCORRECT\n",
      "\n"
     ]
    }
   ],
   "source": [
    "for i, eg in enumerate(examples):\n",
    "    print(f\"Example {i}:\")\n",
    "    print(\"Question: \" + predictions[i]['query'])\n",
    "    print(\"Real Answer: \" + predictions[i]['answer'])\n",
    "    print(\"Predicted Answer: \" + predictions[i]['result'])\n",
    "    print(\"Predicted Grade: \" + graded_outputs[i]['text'])\n",
    "    print()"
   ]
  }
 ],
 "metadata": {
  "colab": {
   "provenance": []
  },
  "kernelspec": {
   "display_name": "Python 3 (ipykernel)",
   "language": "python",
   "name": "python3"
  },
  "language_info": {
   "codemirror_mode": {
    "name": "ipython",
    "version": 3
   },
   "file_extension": ".py",
   "mimetype": "text/x-python",
   "name": "python",
   "nbconvert_exporter": "python",
   "pygments_lexer": "ipython3",
   "version": "3.9.0"
  }
 },
 "nbformat": 4,
 "nbformat_minor": 5
}
